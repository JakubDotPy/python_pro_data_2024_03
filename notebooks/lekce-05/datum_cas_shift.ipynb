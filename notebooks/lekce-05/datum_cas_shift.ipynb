{
 "cells": [
  {
   "cell_type": "markdown",
   "source": [
    "# Datum a čas\n",
    "\n",
    "Mnoho datových sad obsahuje nějaké časové údaje. Např. :term{cs=\"časové razítko\" en=\"time stamp\"} je údaj, které indikuje, kdy byla data uložena nebo kdy se nějaká událost stala. Tato informace je klíčová pro řadu analýz, jako je sledování trendů v čase, sezónní analýza, předpovídání a časové řady. Pandas umožňuje řadu operací, jak manipulovat s datem a časem. Při načtení ze souboru je ale nutné na začátku provést převod série na typ `datetime`, aby bylo jasné, že se jedná o časový údaj a nikoli o řetězec.\n",
    "\n",
    "Uvažujme data o monitorování příjmu nějakého (např. televizního) signálu. Máme data o tom, kdy došlo ke ztrátě signálu (začátek výpadku) a kdy byl signál obnoven (konec výpadku). data jsou uložena v souboru [signal_monitoring.csv](https://kodim.cz/cms/assets/czechitas/python-data-1/python-pro-data-1/datum-cas-shift/datum-cas/signal_monitoring.csv)"
   ],
   "metadata": {
    "collapsed": false
   },
   "id": "f9247aaa3383c1ac"
  },
  {
   "cell_type": "code",
   "outputs": [],
   "source": [
    "import pandas as pd\n",
    "\n",
    "signal_monitoring = pd.read_csv(\"https://kodim.cz/cms/assets/czechitas/python-data-1/python-pro-data-1/datum-cas-shift/datum-cas/signal_monitoring.csv\")\n",
    "signal_monitoring[\"event_date_time\"] = pd.to_datetime(signal_monitoring[\"event_date_time\"])"
   ],
   "metadata": {
    "collapsed": false,
    "ExecuteTime": {
     "end_time": "2024-04-07T20:01:36.877674Z",
     "start_time": "2024-04-07T20:01:36.718519Z"
    }
   },
   "id": "8ce7fd7feb384b3a",
   "execution_count": 1
  },
  {
   "cell_type": "markdown",
   "source": [
    "Type `datetime` má sadu vlastností, pomocí kterých můžeme získat určitou část z data a času. Například vlastnost `dt.date` obsahuje pouze datum, tj. \"ořeže\" údaj o čas. Pomocí této vlastnosti pak můžeme například vypočítat počet výpadků za jednotlivé dny. Budeme pracovat pouze se řádky, které evidují ztrátu signálu, tj. sloupec `event_type` obsahuje hodnotu `signal lost`. Nakonec můžeme použít metodu `.values_count()`."
   ],
   "metadata": {
    "collapsed": false
   },
   "id": "92755f7210eed329"
  },
  {
   "cell_type": "code",
   "outputs": [
    {
     "data": {
      "text/plain": "date\n2021-02-09    2\n2021-02-12    2\n2021-02-03    1\n2021-02-05    1\n2021-02-06    1\n2021-02-08    1\n2021-02-13    1\n2021-02-15    1\n2021-02-16    1\n2021-02-18    1\n2021-02-19    1\n2021-02-22    1\nName: count, dtype: int64"
     },
     "execution_count": 2,
     "metadata": {},
     "output_type": "execute_result"
    }
   ],
   "source": [
    "signal_monitoring_signal_lost = signal_monitoring[signal_monitoring[\"event_type\"] == \"signal lost\"]\n",
    "signal_monitoring_signal_lost = signal_monitoring_signal_lost.reset_index()\n",
    "signal_monitoring_signal_lost[\"date\"] = signal_monitoring_signal_lost[\"event_date_time\"].dt.date\n",
    "signal_monitoring_signal_lost[\"date\"].value_counts()"
   ],
   "metadata": {
    "collapsed": false,
    "ExecuteTime": {
     "end_time": "2024-04-07T20:01:37.998103Z",
     "start_time": "2024-04-07T20:01:37.966243Z"
    }
   },
   "id": "57ebf694ae97a766",
   "execution_count": 2
  },
  {
   "cell_type": "markdown",
   "source": [
    "Dále můžeme například pomocí vlastnosti `dt.dayofweek` den v týdnu (jako číslo, kde 0 označuje pondělí a 6 neděli), `dt.month` vrátí měsíc jako číslo (stejné jako v kalendáři, tj. leden je 1), `dt.hour` naopak vrací hodinu atd. Můžeme tedy sledoval, jak často se výpadky vyskytují v rámci denní doby, měsíce, dne v týdnu atd."
   ],
   "metadata": {
    "collapsed": false
   },
   "id": "dbcb625ff2b3b92c"
  },
  {
   "cell_type": "markdown",
   "source": [
    "## Metoda shift\n",
    "\n",
    "Uvažujme nyní, že chceme vypočítat délku nějakého výpadku. Určitou komplikací je, že začátek a konec jednoho výpadku je na různých řádcích, nemůžeme tedy postupovat jako při běžném výpočtu. Můžeme ale použít metodu `shift()`, která umí data v jednom sloupci posunout nahoru nebo dolů."
   ],
   "metadata": {
    "collapsed": false
   },
   "id": "78e7b2857b9e6847"
  },
  {
   "cell_type": "code",
   "outputs": [],
   "source": [
    "signal_monitoring = pd.read_csv(\"https://kodim.cz/cms/assets/czechitas/python-data-1/python-pro-data-1/datum-cas-shift/datum-cas/signal_monitoring.csv\")\n",
    "signal_monitoring[\"event_date_time\"] = pd.to_datetime(signal_monitoring[\"event_date_time\"])\n",
    "signal_monitoring[\"date\"] = signal_monitoring[\"event_date_time\"].dt.date"
   ],
   "metadata": {
    "collapsed": false,
    "ExecuteTime": {
     "end_time": "2024-04-07T20:13:21.236727Z",
     "start_time": "2024-04-07T20:13:21.041131Z"
    }
   },
   "id": "ab18c7377adb343c",
   "execution_count": 30
  },
  {
   "cell_type": "markdown",
   "source": [
    "Nyní použijeme metodu `shift()` na sloupec `event_date_time`. Pomocí metody pak přidáme k tabulce nový sloupec. Nejdůležitějším parametrem metody je parametr periods, který může mít kladnou nebo zápornou hodnotu.\n",
    "\n",
    "- Kladná hodnota parametru periods znamená, že hodnoty budou posunuty směrem dolů.\n",
    "- Záporná hodnota parametru periods znamená, že hodnoty budou posunuty směrem nahoru.\n",
    "\n",
    "Pro náš případ bude ideální, pokud posuneme hodnoty sloupce `event_date_time` o jeden řádek směrem nahoru. Tím zajistíme, že pokud má sloupec `event_type` hodnotu _signal lost_, uvidíme v jednom řádku začátek i konec výpadku. Tím pádem bude stačit tyto hodnoty od sebe odečíst. Pro `event_type` _signal restored_ nebude mít tato hodnota smysl, ale to nevadí, tyto řádky můžeme pomocí dotazu z tabulky odfiltrovat.\n"
   ],
   "metadata": {
    "collapsed": false
   },
   "id": "5f4643acb308e7d8"
  },
  {
   "cell_type": "code",
   "outputs": [],
   "source": [
    "signal_monitoring[\"event_end_date_time\"] = signal_monitoring[\"event_date_time\"].shift(periods=-1)"
   ],
   "metadata": {
    "collapsed": false,
    "ExecuteTime": {
     "end_time": "2024-04-07T20:13:25.283103Z",
     "start_time": "2024-04-07T20:13:25.273554Z"
    }
   },
   "id": "c347c2c2f3b2f8c5",
   "execution_count": 31
  },
  {
   "cell_type": "markdown",
   "source": [
    "Opět v datech ponecháme pouze řádky, které mají ve sloupci `event_type` hodnotu _signal lost_."
   ],
   "metadata": {
    "collapsed": false
   },
   "id": "ae965d760399253a"
  },
  {
   "cell_type": "code",
   "outputs": [],
   "source": [
    "signal_monitoring_signal_lost = signal_monitoring[signal_monitoring[\"event_type\"] == \"signal lost\"]"
   ],
   "metadata": {
    "collapsed": false,
    "ExecuteTime": {
     "end_time": "2024-04-07T20:13:29.962640Z",
     "start_time": "2024-04-07T20:13:29.953766Z"
    }
   },
   "id": "43ef21902f7ea396",
   "execution_count": 32
  },
  {
   "cell_type": "markdown",
   "source": [
    "Nyné můžeme spočítat rozdíl mezi začátkem výpadku a koncem výpadku, který udává jeho délku."
   ],
   "metadata": {
    "collapsed": false
   },
   "id": "19e738caf2795e1d"
  },
  {
   "cell_type": "code",
   "outputs": [
    {
     "name": "stderr",
     "output_type": "stream",
     "text": [
      "C:\\Users\\Jakub\\AppData\\Local\\Temp\\ipykernel_13164\\3944047271.py:1: SettingWithCopyWarning: \n",
      "A value is trying to be set on a copy of a slice from a DataFrame.\n",
      "Try using .loc[row_indexer,col_indexer] = value instead\n",
      "\n",
      "See the caveats in the documentation: https://pandas.pydata.org/pandas-docs/stable/user_guide/indexing.html#returning-a-view-versus-a-copy\n",
      "  signal_monitoring_signal_lost[\"outage_length\"] = signal_monitoring[\"event_end_date_time\"] - signal_monitoring[\"event_date_time\"]\n"
     ]
    }
   ],
   "source": [
    "signal_monitoring_signal_lost[\"outage_length\"] = signal_monitoring[\"event_end_date_time\"] - signal_monitoring[\"event_date_time\"]"
   ],
   "metadata": {
    "collapsed": false,
    "ExecuteTime": {
     "end_time": "2024-04-07T20:13:51.442897Z",
     "start_time": "2024-04-07T20:13:51.429530Z"
    }
   },
   "id": "2eb12f5962a5e5d0",
   "execution_count": 35
  },
  {
   "cell_type": "markdown",
   "source": [
    "Typ hodnoty ve sloupci `outage_length` je označovaný jako `timedelta`. Tento typ hodnoty označuje rozdíl mezi dvěma hodnotami typu `datetime`."
   ],
   "metadata": {
    "collapsed": false
   },
   "id": "97bea34636990586"
  },
  {
   "cell_type": "code",
   "outputs": [
    {
     "data": {
      "text/plain": "date\n2021-02-03   0 days 00:34:03\n2021-02-05   0 days 00:32:10\n2021-02-06   0 days 00:16:50\n2021-02-08   0 days 00:39:09\n2021-02-09   0 days 00:44:38\n2021-02-12   0 days 01:02:07\n2021-02-13   0 days 00:15:34\n2021-02-15   0 days 00:50:33\n2021-02-16   0 days 00:13:26\n2021-02-18   0 days 00:47:35\n2021-02-19   0 days 00:12:33\n2021-02-22   0 days 00:59:46\nName: outage_length, dtype: timedelta64[ns]"
     },
     "execution_count": 36,
     "metadata": {},
     "output_type": "execute_result"
    }
   ],
   "source": [
    "signal_monitoring_signal_lost.groupby(\"date\")[\"outage_length\"].sum()"
   ],
   "metadata": {
    "collapsed": false,
    "ExecuteTime": {
     "end_time": "2024-04-07T20:13:53.887845Z",
     "start_time": "2024-04-07T20:13:53.868860Z"
    }
   },
   "id": "e1e0f58f760575b3",
   "execution_count": 36
  },
  {
   "cell_type": "markdown",
   "source": [
    "Příklad řešení s využitím ChatGPT je [zde](https://chat.openai.com/share/eb92296b-1968-4387-9cc4-592023d4d104)."
   ],
   "metadata": {
    "collapsed": false
   },
   "id": "b0c1d3bab093030a"
  },
  {
   "cell_type": "markdown",
   "source": [
    "---\n",
    "## Cvičení"
   ],
   "metadata": {
    "collapsed": false
   },
   "id": "3caa4e55e48c1156"
  },
  {
   "cell_type": "markdown",
   "source": [
    "### Půlmaraton\n",
    "\n",
    "Uvažuj časy závodníků za ročníky půlmaratonu 2019 a 2020, které jsou uloženy v souboru [half_marathon.csv](https://kodim.cz/cms/assets/czechitas/python-data-1/python-pro-data-1/datum-cas-shift/excs/pulmaraton/half_marathon.csv). V souboru je uloženo jméno závodníka (závodnice), rok narození, jeho/její čas a rok závodu, ke kterému se čas vztahuje. Tvým úkolem je spočítat, o kolik se změnil průměrný čas každého ze závodníků a závodnic a zda se v průměru zlepšili či zhoršili (například protože kvůli lockdownům méně trénovali).\n",
    "\n",
    "Můžeš využít následující postup:\n",
    "\n",
    "- Převeď sloupec s časem závodníka na typ datetime. Použij stejný postup, jaký jsme si ukázali v minulé v lekci. Protože jde pouze o časový údaj, pandas k němu připojí dnešní datum, aby byly ve sloupci datum i čas. Toho si ale nevšímej, u obou sloupců je datum stejný, takže na porovnání údajů to nebude mít vliv.\n",
    "- Pomocí metody `shift()` si dej na jeden řádek výsledky obou závodů. Metodu `shift()` použij tak, aby nový sloupec obsahoval hodnoty posunuté o jeden řádek dolů. Je třeba nahradit X vhodně zvoleným číslem. Poté si nech v datech pouze data, která mají ve sloupci `Rok zavodu` hodnotu 2020. Řádky, které mají ve sloupci `Rok zavodu` hodnotu 2019, totiž obsahují \"pomíchané\" hodnoty dvou různých závodníků.\n",
    "- Vypočítej rozdíl mezi časy závodníka a převeď ho na sekundy (postup jsme si ukazovali v lekci). Dále spočítej průměrnou změnu. Vyšlo i kladné nebo záporné číslo? A co to znamená?"
   ],
   "metadata": {
    "collapsed": false
   },
   "id": "1cbf77aeaaccd7a0"
  },
  {
   "cell_type": "code",
   "outputs": [
    {
     "data": {
      "text/plain": "            Jmeno  Rocnik       Cas  Rok zavodu\n0  Aster Vladimír    1965  01:53:25        2019\n1  Aster Vladimír    1965  02:00:19        2020\n2   Asterová Jana    1974  02:16:59        2019\n3   Asterová Jana    1974  02:30:01        2020\n4   Baborová Anna    1990  01:58:20        2019",
      "text/html": "<div>\n<style scoped>\n    .dataframe tbody tr th:only-of-type {\n        vertical-align: middle;\n    }\n\n    .dataframe tbody tr th {\n        vertical-align: top;\n    }\n\n    .dataframe thead th {\n        text-align: right;\n    }\n</style>\n<table border=\"1\" class=\"dataframe\">\n  <thead>\n    <tr style=\"text-align: right;\">\n      <th></th>\n      <th>Jmeno</th>\n      <th>Rocnik</th>\n      <th>Cas</th>\n      <th>Rok zavodu</th>\n    </tr>\n  </thead>\n  <tbody>\n    <tr>\n      <th>0</th>\n      <td>Aster Vladimír</td>\n      <td>1965</td>\n      <td>01:53:25</td>\n      <td>2019</td>\n    </tr>\n    <tr>\n      <th>1</th>\n      <td>Aster Vladimír</td>\n      <td>1965</td>\n      <td>02:00:19</td>\n      <td>2020</td>\n    </tr>\n    <tr>\n      <th>2</th>\n      <td>Asterová Jana</td>\n      <td>1974</td>\n      <td>02:16:59</td>\n      <td>2019</td>\n    </tr>\n    <tr>\n      <th>3</th>\n      <td>Asterová Jana</td>\n      <td>1974</td>\n      <td>02:30:01</td>\n      <td>2020</td>\n    </tr>\n    <tr>\n      <th>4</th>\n      <td>Baborová Anna</td>\n      <td>1990</td>\n      <td>01:58:20</td>\n      <td>2019</td>\n    </tr>\n  </tbody>\n</table>\n</div>"
     },
     "execution_count": 37,
     "metadata": {},
     "output_type": "execute_result"
    }
   ],
   "source": [
    "df = pd.read_csv(\"https://kodim.cz/cms/assets/czechitas/python-data-1/python-pro-data-1/datum-cas-shift/excs/pulmaraton/half_marathon.csv\")\n",
    "df.head()"
   ],
   "metadata": {
    "collapsed": false,
    "ExecuteTime": {
     "end_time": "2024-04-07T20:18:28.732433Z",
     "start_time": "2024-04-07T20:18:28.574582Z"
    }
   },
   "id": "2c20345826db57dd",
   "execution_count": 37
  },
  {
   "cell_type": "code",
   "outputs": [
    {
     "name": "stderr",
     "output_type": "stream",
     "text": [
      "C:\\Users\\Jakub\\AppData\\Local\\Temp\\ipykernel_13164\\1170363246.py:1: UserWarning: Could not infer format, so each element will be parsed individually, falling back to `dateutil`. To ensure parsing is consistent and as-expected, please specify a format.\n",
      "  df[\"Cas\"] = pd.to_datetime(df[\"Cas\"])\n"
     ]
    },
    {
     "data": {
      "text/plain": "                  Jmeno  Rocnik                 Cas  Rok zavodu  \\\n1        Aster Vladimír    1965 2024-04-07 02:00:19        2020   \n3         Asterová Jana    1974 2024-04-07 02:30:01        2020   \n5         Baborová Anna    1990 2024-04-07 01:52:25        2020   \n7            Bambas Jan    1975 2024-04-07 02:35:39        2020   \n9    Barochovská Andrea    1976 2024-04-07 02:50:05        2020   \n..                  ...     ...                 ...         ...   \n180       Šulcová Jitka    1974 2024-04-07 01:59:07        2020   \n182      Švarcová Petra    1974 2024-04-07 02:50:01        2020   \n184        Švelch Rosťa    1966 2024-04-07 01:55:11        2020   \n186        Žitková Jana    1974 2024-04-07 02:42:48        2020   \n188       Žákovec Pavel    1966 2024-04-07 02:07:37        2020   \n\n               Cas 2019             Zmena  \n1   2024-04-07 01:53:25   0 days 00:06:54  \n3   2024-04-07 02:16:59   0 days 00:13:02  \n5   2024-04-07 01:58:20 -1 days +23:54:05  \n7   2024-04-07 02:02:59   0 days 00:32:40  \n9   2024-04-07 03:01:25 -1 days +23:48:40  \n..                  ...               ...  \n180 2024-04-07 01:43:12   0 days 00:15:55  \n182 2024-04-07 02:27:45   0 days 00:22:16  \n184 2024-04-07 01:54:58   0 days 00:00:13  \n186 2024-04-07 02:45:54 -1 days +23:56:54  \n188 2024-04-07 02:03:36   0 days 00:04:01  \n\n[95 rows x 6 columns]",
      "text/html": "<div>\n<style scoped>\n    .dataframe tbody tr th:only-of-type {\n        vertical-align: middle;\n    }\n\n    .dataframe tbody tr th {\n        vertical-align: top;\n    }\n\n    .dataframe thead th {\n        text-align: right;\n    }\n</style>\n<table border=\"1\" class=\"dataframe\">\n  <thead>\n    <tr style=\"text-align: right;\">\n      <th></th>\n      <th>Jmeno</th>\n      <th>Rocnik</th>\n      <th>Cas</th>\n      <th>Rok zavodu</th>\n      <th>Cas 2019</th>\n      <th>Zmena</th>\n    </tr>\n  </thead>\n  <tbody>\n    <tr>\n      <th>1</th>\n      <td>Aster Vladimír</td>\n      <td>1965</td>\n      <td>2024-04-07 02:00:19</td>\n      <td>2020</td>\n      <td>2024-04-07 01:53:25</td>\n      <td>0 days 00:06:54</td>\n    </tr>\n    <tr>\n      <th>3</th>\n      <td>Asterová Jana</td>\n      <td>1974</td>\n      <td>2024-04-07 02:30:01</td>\n      <td>2020</td>\n      <td>2024-04-07 02:16:59</td>\n      <td>0 days 00:13:02</td>\n    </tr>\n    <tr>\n      <th>5</th>\n      <td>Baborová Anna</td>\n      <td>1990</td>\n      <td>2024-04-07 01:52:25</td>\n      <td>2020</td>\n      <td>2024-04-07 01:58:20</td>\n      <td>-1 days +23:54:05</td>\n    </tr>\n    <tr>\n      <th>7</th>\n      <td>Bambas Jan</td>\n      <td>1975</td>\n      <td>2024-04-07 02:35:39</td>\n      <td>2020</td>\n      <td>2024-04-07 02:02:59</td>\n      <td>0 days 00:32:40</td>\n    </tr>\n    <tr>\n      <th>9</th>\n      <td>Barochovská Andrea</td>\n      <td>1976</td>\n      <td>2024-04-07 02:50:05</td>\n      <td>2020</td>\n      <td>2024-04-07 03:01:25</td>\n      <td>-1 days +23:48:40</td>\n    </tr>\n    <tr>\n      <th>...</th>\n      <td>...</td>\n      <td>...</td>\n      <td>...</td>\n      <td>...</td>\n      <td>...</td>\n      <td>...</td>\n    </tr>\n    <tr>\n      <th>180</th>\n      <td>Šulcová Jitka</td>\n      <td>1974</td>\n      <td>2024-04-07 01:59:07</td>\n      <td>2020</td>\n      <td>2024-04-07 01:43:12</td>\n      <td>0 days 00:15:55</td>\n    </tr>\n    <tr>\n      <th>182</th>\n      <td>Švarcová Petra</td>\n      <td>1974</td>\n      <td>2024-04-07 02:50:01</td>\n      <td>2020</td>\n      <td>2024-04-07 02:27:45</td>\n      <td>0 days 00:22:16</td>\n    </tr>\n    <tr>\n      <th>184</th>\n      <td>Švelch Rosťa</td>\n      <td>1966</td>\n      <td>2024-04-07 01:55:11</td>\n      <td>2020</td>\n      <td>2024-04-07 01:54:58</td>\n      <td>0 days 00:00:13</td>\n    </tr>\n    <tr>\n      <th>186</th>\n      <td>Žitková Jana</td>\n      <td>1974</td>\n      <td>2024-04-07 02:42:48</td>\n      <td>2020</td>\n      <td>2024-04-07 02:45:54</td>\n      <td>-1 days +23:56:54</td>\n    </tr>\n    <tr>\n      <th>188</th>\n      <td>Žákovec Pavel</td>\n      <td>1966</td>\n      <td>2024-04-07 02:07:37</td>\n      <td>2020</td>\n      <td>2024-04-07 02:03:36</td>\n      <td>0 days 00:04:01</td>\n    </tr>\n  </tbody>\n</table>\n<p>95 rows × 6 columns</p>\n</div>"
     },
     "execution_count": 38,
     "metadata": {},
     "output_type": "execute_result"
    }
   ],
   "source": [
    "df[\"Cas\"] = pd.to_datetime(df[\"Cas\"])\n",
    "df[\"Cas 2019\"] = df[\"Cas\"].shift(1)\n",
    "df = df[df[\"Rok zavodu\"] == 2020]\n",
    "df[\"Zmena\"] = df[\"Cas\"] - df[\"Cas 2019\"]\n",
    "df"
   ],
   "metadata": {
    "collapsed": false,
    "ExecuteTime": {
     "end_time": "2024-04-07T20:18:36.561607Z",
     "start_time": "2024-04-07T20:18:36.475148Z"
    }
   },
   "id": "96510117278f7dc8",
   "execution_count": 38
  },
  {
   "cell_type": "code",
   "outputs": [
    {
     "data": {
      "text/plain": "Timedelta('0 days 00:09:36.031578947')"
     },
     "execution_count": 39,
     "metadata": {},
     "output_type": "execute_result"
    }
   ],
   "source": [
    "df[\"Zmena\"].mean()"
   ],
   "metadata": {
    "collapsed": false,
    "ExecuteTime": {
     "end_time": "2024-04-07T20:18:51.317807Z",
     "start_time": "2024-04-07T20:18:51.296586Z"
    }
   },
   "id": "a28138fb2f0fb970",
   "execution_count": 39
  },
  {
   "cell_type": "markdown",
   "source": [
    "### Swing states\n",
    "\n",
    "V případě amerických prezidentských voleb obecně platí, že ve většině států dlouhodobě vyhrávají kandidáti jedné strany. Například v Kalifornii vyhrávají poměrně dlouho kandidáti Demokratické strany, v Texasu zase kandidáti Republikánské strany. Státy, kde se vítězné strany střídají, jsou označovány jako _swing states_ (\"kolísavé státy\"). Tvým úkolem je pro jeden konkrétní stát spočítat, kolikrát v něm došlo ke změně vítězné strany, přičemž data jsou uložena v souboru [election-data.csv](https://kodim.cz/cms/assets/czechitas/python-data-1/python-pro-data-1/datum-cas-shift/excs/swing-states/election-data.csv).\n",
    "\n",
    "V souboru jsou důležité následující sloupce:\n",
    "\n",
    "`year` - rok voleb,\n",
    "`state` - stát,\n",
    "`party_simplified` - zjednodušené označení politické strany,\n",
    "`rank` - pořadí kandidáta v rámci státu a roku.\n",
    "\n",
    "Vyber si jeden stát, např. stát PENNSYLVANIA. Vytvoř si tabulku, kde budou data pouze za tento stát. Současně si vyber pouze data o vítězích, tj. řádky, které mají ve sloupci `rank` hodnotu `1`. Vytvoř sloupec, který bude obsahovat politickou strunu vítěze voleb z přechozího volebního období. Pokud spočítáš řádky, kde se politická strana současného vítěze liší od strany minulého, zjistíš, kolikrát voliči v daném státě přešli od jedné strany ke druhé. Pozor na to, že pro rok 1976 neznáme předchozího vítěze, v nově přidaném sloupci tedy bude prázdná hodnota. Té se můžeš zbavit například pomocí metody `dropna()`.\n",
    "\n",
    "Např. pro stát PENNSYLVANIA by ti mělo vyjít, že ke změně došlo celkem čtyřikrát, a to v letech 1980, 1992, 2016 a 2020. Ve státě SOUTH CAROLINA došlo ke změně pouze jednou, a to v roce 1980, kdy vyhrál Ronald Reagan. Od té doby zde vyhrávají pouze kandidáti Republikánské strany."
   ],
   "metadata": {
    "collapsed": false
   },
   "id": "e6edb799e03f968f"
  },
  {
   "cell_type": "code",
   "outputs": [
    {
     "data": {
      "text/plain": "      year           state       candidate party_simplified  candidatevotes  \\\n3396  1980  SOUTH CAROLINA  REAGAN, RONALD       REPUBLICAN          439277   \n\n      rank previous_winner_party  \n3396   1.0              DEMOCRAT  ",
      "text/html": "<div>\n<style scoped>\n    .dataframe tbody tr th:only-of-type {\n        vertical-align: middle;\n    }\n\n    .dataframe tbody tr th {\n        vertical-align: top;\n    }\n\n    .dataframe thead th {\n        text-align: right;\n    }\n</style>\n<table border=\"1\" class=\"dataframe\">\n  <thead>\n    <tr style=\"text-align: right;\">\n      <th></th>\n      <th>year</th>\n      <th>state</th>\n      <th>candidate</th>\n      <th>party_simplified</th>\n      <th>candidatevotes</th>\n      <th>rank</th>\n      <th>previous_winner_party</th>\n    </tr>\n  </thead>\n  <tbody>\n    <tr>\n      <th>3396</th>\n      <td>1980</td>\n      <td>SOUTH CAROLINA</td>\n      <td>REAGAN, RONALD</td>\n      <td>REPUBLICAN</td>\n      <td>439277</td>\n      <td>1.0</td>\n      <td>DEMOCRAT</td>\n    </tr>\n  </tbody>\n</table>\n</div>"
     },
     "execution_count": 40,
     "metadata": {},
     "output_type": "execute_result"
    }
   ],
   "source": [
    "data = pd.read_csv(\"https://kodim.cz/cms/assets/czechitas/python-data-1/python-pro-data-1/datum-cas-shift/excs/swing-states/election-data.csv\")\n",
    "\n",
    "data = data[(data[\"state\"] == \"SOUTH CAROLINA\") & (data[\"rank\"] == 1)]\n",
    "data[\"previous_winner_party\"] = data[\"party_simplified\"].shift(1)\n",
    "data = data.dropna()\n",
    "data[data[\"party_simplified\"] != data[\"previous_winner_party\"]]"
   ],
   "metadata": {
    "collapsed": false,
    "ExecuteTime": {
     "end_time": "2024-04-07T20:21:13.380613Z",
     "start_time": "2024-04-07T20:21:12.978450Z"
    }
   },
   "id": "c9365457b672ae87",
   "execution_count": 40
  }
 ],
 "metadata": {
  "kernelspec": {
   "display_name": "Python 3",
   "language": "python",
   "name": "python3"
  },
  "language_info": {
   "codemirror_mode": {
    "name": "ipython",
    "version": 2
   },
   "file_extension": ".py",
   "mimetype": "text/x-python",
   "name": "python",
   "nbconvert_exporter": "python",
   "pygments_lexer": "ipython2",
   "version": "2.7.6"
  }
 },
 "nbformat": 4,
 "nbformat_minor": 5
}
